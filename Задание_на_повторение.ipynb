{
 "cells": [
  {
   "cell_type": "code",
   "execution_count": 1,
   "id": "5441eb13",
   "metadata": {},
   "outputs": [],
   "source": [
    "import numpy as np"
   ]
  },
  {
   "cell_type": "code",
   "execution_count": 115,
   "id": "946815b4",
   "metadata": {},
   "outputs": [
    {
     "data": {
      "text/plain": [
       "array([12, 13, 14, 15, 16, 17, 18, 19, 20, 21, 22, 23])"
      ]
     },
     "execution_count": 115,
     "metadata": {},
     "output_type": "execute_result"
    }
   ],
   "source": [
    "#1\n",
    "a = np.arange(12, 24)\n",
    "a"
   ]
  },
  {
   "cell_type": "code",
   "execution_count": 19,
   "id": "4eb70700",
   "metadata": {},
   "outputs": [
    {
     "data": {
      "text/plain": [
       "(array([[12, 13, 14],\n",
       "        [15, 16, 17],\n",
       "        [18, 19, 20],\n",
       "        [21, 22, 23]]),\n",
       " array([[12, 13, 14, 15, 16, 17],\n",
       "        [18, 19, 20, 21, 22, 23]]),\n",
       " array([[12],\n",
       "        [13],\n",
       "        [14],\n",
       "        [15],\n",
       "        [16],\n",
       "        [17],\n",
       "        [18],\n",
       "        [19],\n",
       "        [20],\n",
       "        [21],\n",
       "        [22],\n",
       "        [23]]),\n",
       " array([[12, 13],\n",
       "        [14, 15],\n",
       "        [16, 17],\n",
       "        [18, 19],\n",
       "        [20, 21],\n",
       "        [22, 23]]),\n",
       " array([[12, 13, 14, 15],\n",
       "        [16, 17, 18, 19],\n",
       "        [20, 21, 22, 23]]))"
      ]
     },
     "execution_count": 19,
     "metadata": {},
     "output_type": "execute_result"
    }
   ],
   "source": [
    "#2\n",
    "a1 = np.reshape(a, (4, 3))\n",
    "a2 = np.reshape(a, (2, 6))\n",
    "a3 = np.reshape(a, (12, 1))\n",
    "a4 = np.reshape(a, (6, 2))\n",
    "a5 = np.reshape(a, (3, 4))\n",
    "a1, a2, a3, a4, a5"
   ]
  },
  {
   "cell_type": "code",
   "execution_count": 116,
   "id": "30c44320",
   "metadata": {},
   "outputs": [
    {
     "data": {
      "text/plain": [
       "(array([[12, 13, 14],\n",
       "        [15, 16, 17],\n",
       "        [18, 19, 20],\n",
       "        [21, 22, 23]]),\n",
       " array([[12, 13, 14, 15, 16, 17],\n",
       "        [18, 19, 20, 21, 22, 23]]),\n",
       " array([[12],\n",
       "        [13],\n",
       "        [14],\n",
       "        [15],\n",
       "        [16],\n",
       "        [17],\n",
       "        [18],\n",
       "        [19],\n",
       "        [20],\n",
       "        [21],\n",
       "        [22],\n",
       "        [23]]),\n",
       " array([[12, 13, 14, 15, 16, 17],\n",
       "        [18, 19, 20, 21, 22, 23]]),\n",
       " array([[12, 13, 14],\n",
       "        [15, 16, 17],\n",
       "        [18, 19, 20],\n",
       "        [21, 22, 23]]))"
      ]
     },
     "execution_count": 116,
     "metadata": {},
     "output_type": "execute_result"
    }
   ],
   "source": [
    "#3\n",
    "a1 = np.reshape(a, (-1, 3))\n",
    "a2 = np.reshape(a, (-1, 6))\n",
    "a3 = np.reshape(a, (-1, 1))\n",
    "a4 = np.reshape(a, (2, -1))\n",
    "a5 = np.reshape(a, (4, -1))\n",
    "a1, a2, a3, a4, a5"
   ]
  },
  {
   "cell_type": "code",
   "execution_count": 121,
   "id": "ba90b21a",
   "metadata": {},
   "outputs": [
    {
     "name": "stdout",
     "output_type": "stream",
     "text": [
      "a [ 0  1  2  3  4  5  6  7  8  9 10 11]\n",
      "a1 [[ 0]\n",
      " [ 1]\n",
      " [ 2]\n",
      " [ 3]\n",
      " [ 4]\n",
      " [ 5]\n",
      " [ 6]\n",
      " [ 7]\n",
      " [ 8]\n",
      " [ 9]\n",
      " [10]\n",
      " [11]]\n"
     ]
    }
   ],
   "source": [
    "#4\n",
    "a = np.arange(0,12)\n",
    "a1 = a.reshape(12,1)\n",
    "print('a', a)\n",
    "print('a1', a1)\n",
    "# массив Numpy a и одномерный массив а1 выглядят по-разному, поэтому массив а нельзя назвать одномерным массивом"
   ]
  },
  {
   "cell_type": "code",
   "execution_count": 35,
   "id": "0a59e0d6",
   "metadata": {},
   "outputs": [
    {
     "name": "stdout",
     "output_type": "stream",
     "text": [
      "[[-3.03982595  0.61545258  0.80859152  0.34775164]\n",
      " [-0.55042866 -1.01012778  1.62312679 -1.33250213]\n",
      " [-1.21907443  0.96841273 -0.85058372  0.20803804]]\n",
      "[-3.03982595  0.61545258  0.80859152  0.34775164 -0.55042866 -1.01012778\n",
      "  1.62312679 -1.33250213 -1.21907443  0.96841273 -0.85058372  0.20803804]\n"
     ]
    },
    {
     "data": {
      "text/plain": [
       "True"
      ]
     },
     "execution_count": 35,
     "metadata": {},
     "output_type": "execute_result"
    }
   ],
   "source": [
    "#5\n",
    "m = np.random.randn(3,4)\n",
    "print(m)\n",
    "o = m.flatten()\n",
    "print(o)\n",
    "m.size == o.size"
   ]
  },
  {
   "cell_type": "code",
   "execution_count": 53,
   "id": "92054f3e",
   "metadata": {},
   "outputs": [
    {
     "name": "stdout",
     "output_type": "stream",
     "text": [
      "[20 18 16 14 12 10  8  6  4  2]\n",
      "(10,)\n"
     ]
    }
   ],
   "source": [
    "#6\n",
    "a = np.arange(20, 0, -2)\n",
    "print(a)\n",
    "print(a.shape)"
   ]
  },
  {
   "cell_type": "code",
   "execution_count": 51,
   "id": "96d5e33d",
   "metadata": {},
   "outputs": [
    {
     "name": "stdout",
     "output_type": "stream",
     "text": [
      "[[20 18 16 14 12 10  8  6  4  2]]\n",
      "(1, 10)\n"
     ]
    }
   ],
   "source": [
    "#7\n",
    "b = np.arange(20, 1, -2).reshape(1,10)\n",
    "print(b)\n",
    "print(b.shape)"
   ]
  },
  {
   "cell_type": "markdown",
   "id": "f7cca2de",
   "metadata": {},
   "source": [
    "Массив а - одномерный, массив в - двумерный"
   ]
  },
  {
   "cell_type": "code",
   "execution_count": 70,
   "id": "82401b2f",
   "metadata": {},
   "outputs": [
    {
     "data": {
      "text/plain": [
       "array([[0., 0.],\n",
       "       [0., 0.]])"
      ]
     },
     "execution_count": 70,
     "metadata": {},
     "output_type": "execute_result"
    }
   ],
   "source": [
    "#8\n",
    "a = np.zeros((2,2))\n",
    "a"
   ]
  },
  {
   "cell_type": "code",
   "execution_count": 71,
   "id": "de6ed73a",
   "metadata": {},
   "outputs": [
    {
     "data": {
      "text/plain": [
       "array([[1., 1.],\n",
       "       [1., 1.],\n",
       "       [1., 1.]])"
      ]
     },
     "execution_count": 71,
     "metadata": {},
     "output_type": "execute_result"
    }
   ],
   "source": [
    "b = np.ones((3,2))\n",
    "b"
   ]
  },
  {
   "cell_type": "code",
   "execution_count": 72,
   "id": "4850569c",
   "metadata": {},
   "outputs": [
    {
     "data": {
      "text/plain": [
       "10"
      ]
     },
     "execution_count": 72,
     "metadata": {},
     "output_type": "execute_result"
    }
   ],
   "source": [
    "v = np.vstack((a,b))\n",
    "v.size"
   ]
  },
  {
   "cell_type": "code",
   "execution_count": 128,
   "id": "95b9b395",
   "metadata": {},
   "outputs": [
    {
     "name": "stdout",
     "output_type": "stream",
     "text": [
      "B [[  5  14  23  32]\n",
      " [ 14  50  86 122]\n",
      " [ 23  86 149 212]\n",
      " [ 32 122 212 302]]\n",
      "16\n",
      "(4, 4)\n",
      "0.0\n"
     ]
    }
   ],
   "source": [
    "#9\n",
    "a = np.arange(0,12)\n",
    "A = a.reshape(4,3)\n",
    "At = A.T\n",
    "B = np.dot(A,At)\n",
    "print('B', B)\n",
    "print(B.size)\n",
    "print(B.shape)\n",
    "det = np.linalg.det(B)\n",
    "print(det)"
   ]
  },
  {
   "cell_type": "markdown",
   "id": "8a7d934d",
   "metadata": {},
   "source": [
    "Размер матрицы В = 16. Вычислить обратную матрицу для матрицы В не получиться, потому что детерминант равен 0."
   ]
  },
  {
   "cell_type": "code",
   "execution_count": 90,
   "id": "d7d7a51e",
   "metadata": {},
   "outputs": [
    {
     "data": {
      "text/plain": [
       "3"
      ]
     },
     "execution_count": 90,
     "metadata": {},
     "output_type": "execute_result"
    }
   ],
   "source": [
    "#10\n",
    "np.random.seed(42)\n",
    "np.random.randint(1,5)"
   ]
  },
  {
   "cell_type": "code",
   "execution_count": 122,
   "id": "1da8a199",
   "metadata": {},
   "outputs": [
    {
     "name": "stdout",
     "output_type": "stream",
     "text": [
      "c [ 7  4 15 12  1 14  4  7  9  8 11 11 11 12  8 12]\n"
     ]
    }
   ],
   "source": [
    "#11\n",
    "c = np.random.randint(0,16,16)\n",
    "print('c',c)"
   ]
  },
  {
   "cell_type": "code",
   "execution_count": 126,
   "id": "fc21a004",
   "metadata": {},
   "outputs": [
    {
     "name": "stdout",
     "output_type": "stream",
     "text": [
      "C [[ 7  4 15 12]\n",
      " [ 1 14  4  7]\n",
      " [ 9  8 11 11]\n",
      " [11 12  8 12]]\n",
      "D [[ 75  54 173 152]\n",
      " [ 24 190 126 192]\n",
      " [113 166 259 322]\n",
      " [142 242 292 422]]\n",
      "D_det 18745999.999999993\n",
      "D_rank 4\n"
     ]
    }
   ],
   "source": [
    "#12\n",
    "C = c.reshape(4,4)\n",
    "print('C',C)\n",
    "D = B + (C*10)\n",
    "print('D',D)\n",
    "D_det = np.linalg.det(D)\n",
    "D_rank = np.linalg.matrix_rank(D)\n",
    "D_inv = np.linalg.inv(D)\n",
    "print('D_det', D_det)\n",
    "print('D_rank', D_rank)"
   ]
  },
  {
   "cell_type": "code",
   "execution_count": 130,
   "id": "96384edc",
   "metadata": {},
   "outputs": [
    {
     "name": "stdout",
     "output_type": "stream",
     "text": [
      "check []\n",
      "D_inv [[1. 0. 0. 1.]\n",
      " [1. 1. 0. 1.]\n",
      " [1. 1. 1. 0.]\n",
      " [0. 0. 1. 0.]]\n",
      "E [[  5   4  15  32]\n",
      " [ 14  50   4 122]\n",
      " [ 23  86 149  11]\n",
      " [ 11  12 212  12]]\n",
      "E_shape (4, 4)\n",
      "B [[  5  14  23  32]\n",
      " [ 14  50  86 122]\n",
      " [ 23  86 149 212]\n",
      " [ 32 122 212 302]]\n",
      "C [[ 7  4 15 12]\n",
      " [ 1 14  4  7]\n",
      " [ 9  8 11 11]\n",
      " [11 12  8 12]]\n"
     ]
    }
   ],
   "source": [
    "#13\n",
    "D_inv[D_inv > 0] = 1\n",
    "D_inv[D_inv < 0] = 0\n",
    "check = D_inv[(D_inv != 1) & (D_inv != 0)]\n",
    "print('check', check)\n",
    "print('D_inv', D_inv)\n",
    "E = np.where(D_inv, B, C)\n",
    "print('E', E)\n",
    "print('E_shape', E.shape)\n",
    "print('B', B)\n",
    "print('C',C)"
   ]
  }
 ],
 "metadata": {
  "kernelspec": {
   "display_name": "Python 3 (ipykernel)",
   "language": "python",
   "name": "python3"
  },
  "language_info": {
   "codemirror_mode": {
    "name": "ipython",
    "version": 3
   },
   "file_extension": ".py",
   "mimetype": "text/x-python",
   "name": "python",
   "nbconvert_exporter": "python",
   "pygments_lexer": "ipython3",
   "version": "3.9.12"
  }
 },
 "nbformat": 4,
 "nbformat_minor": 5
}
